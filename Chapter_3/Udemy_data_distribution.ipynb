{
 "cells": [
  {
   "cell_type": "code",
   "execution_count": 1,
   "metadata": {},
   "outputs": [],
   "source": [
    "import cv2,os\n",
    "import matplotlib.pyplot as plt\n",
    "import numpy as np\n",
    "import shutil\n",
    "import json"
   ]
  },
  {
   "cell_type": "markdown",
   "metadata": {},
   "source": [
    "# data distribution"
   ]
  },
  {
   "cell_type": "code",
   "execution_count": 2,
   "metadata": {},
   "outputs": [],
   "source": [
    "#When we get the dataset, we have to divide it into 2 parts: training set and test set\n",
    "#Step 1: read all image paths(don't read all images as 4-D array, or your memory will be maxed out)\n",
    "#Step 2: shuffle\n",
    "#Step 3: use the ratio to distribute the data(copy data)\n",
    "#Step 4: place 2 parts in different directory\n",
    "\n",
    "def data_distribution(img_dir,ratio=0.7):\n",
    "    img_format = {'jpg', 'png', 'bmp'}\n",
    "    \n",
    "    paths = [file.path for file in os.scandir(img_dir) if file.name.split(\".\")[-1] in img_format]\n",
    "    leng = len(paths)\n",
    "    if leng <= 0:\n",
    "        print(\"No supported image files in {}\".format(img_dir))\n",
    "    else:\n",
    "        #----shuffle\n",
    "        paths = np.array(paths)\n",
    "        indice = np.random.permutation(paths.shape[0])\n",
    "        paths = paths[indice]\n",
    "        \n",
    "        #----distribution\n",
    "        num = int(leng * ratio)\n",
    "        part_1 = paths[:num]\n",
    "        part_2 = paths[num:]\n",
    "        \n",
    "        #----create new directories\n",
    "        dir_1 = os.path.join(img_dir,\"ratio_\" + \"%.2f\"%ratio)\n",
    "        dir_2 = os.path.join(img_dir,\"ratio_\" + \"%.2f\"%(1-ratio))\n",
    "        \n",
    "        for dir_path in [dir_1,dir_2]:\n",
    "            if not os.path.exists(dir_path):\n",
    "                os.makedirs(dir_path)\n",
    "                \n",
    "        #----copy and save\n",
    "        #====the ratio part\n",
    "        for path in part_1:\n",
    "            new_file_path = path.split(\"\\\\\")[-1]\n",
    "            new_file_path = os.path.join(dir_1,new_file_path)\n",
    "            shutil.copy(path,new_file_path)\n",
    "        \n",
    "        #====the (1 - ratio) part\n",
    "        for path in part_2:\n",
    "            new_file_path = path.split(\"\\\\\")[-1]\n",
    "            new_file_path = os.path.join(dir_2,new_file_path)\n",
    "            shutil.copy(path,new_file_path)\n",
    "                \n",
    "    print(\"done\")\n",
    "                \n"
   ]
  },
  {
   "cell_type": "code",
   "execution_count": 3,
   "metadata": {},
   "outputs": [
    {
     "name": "stdout",
     "output_type": "stream",
     "text": [
      "done\n"
     ]
    }
   ],
   "source": [
    "img_dir = r\"C:\\Users\\JohnnyKavnie\\Downloads\\zero\"\n",
    "ratio = 0.7\n",
    "data_distribution(img_dir,ratio=ratio)\n"
   ]
  }
 ],
 "metadata": {
  "kernelspec": {
   "display_name": "Python 3",
   "language": "python",
   "name": "python3"
  },
  "language_info": {
   "codemirror_mode": {
    "name": "ipython",
    "version": 3
   },
   "file_extension": ".py",
   "mimetype": "text/x-python",
   "name": "python",
   "nbconvert_exporter": "python",
   "pygments_lexer": "ipython3",
   "version": "3.7.3"
  }
 },
 "nbformat": 4,
 "nbformat_minor": 2
}
