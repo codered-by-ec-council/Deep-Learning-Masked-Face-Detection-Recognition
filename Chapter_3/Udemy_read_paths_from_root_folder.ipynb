{
 "cells": [
  {
   "cell_type": "code",
   "execution_count": 2,
   "metadata": {},
   "outputs": [],
   "source": [
    "import cv2,os\n",
    "import matplotlib.pyplot as plt\n",
    "import numpy as np\n",
    "import shutil\n",
    "import json"
   ]
  },
  {
   "cell_type": "code",
   "execution_count": 3,
   "metadata": {},
   "outputs": [
    {
     "name": "stdout",
     "output_type": "stream",
     "text": [
      "3.4.2\n",
      "1.16.2\n"
     ]
    }
   ],
   "source": [
    "print(cv2.__version__)\n",
    "print(np.__version__)"
   ]
  },
  {
   "cell_type": "code",
   "execution_count": 14,
   "metadata": {
    "scrolled": true
   },
   "outputs": [
    {
     "name": "stdout",
     "output_type": "stream",
     "text": [
      "File: 0_30.jpg\n",
      "Full path: F:\\dataset\\CASIA\\test_xxx\\0_30.jpg\n",
      "File: 10_733.jpg\n",
      "Full path: F:\\dataset\\CASIA\\test_xxx\\10_733.jpg\n",
      "File: 11_853.jpg\n",
      "Full path: F:\\dataset\\CASIA\\test_xxx\\11_853.jpg\n",
      "File: 12_917.jpg\n",
      "Full path: F:\\dataset\\CASIA\\test_xxx\\12_917.jpg\n",
      "File: 13_1055.jpg\n",
      "Full path: F:\\dataset\\CASIA\\test_xxx\\13_1055.jpg\n",
      "File: 1_112.jpg\n",
      "Full path: F:\\dataset\\CASIA\\test_xxx\\1_112.jpg\n",
      "File: 2_141.jpg\n",
      "Full path: F:\\dataset\\CASIA\\test_xxx\\2_141.jpg\n",
      "File: 3_223.jpg\n",
      "Full path: F:\\dataset\\CASIA\\test_xxx\\3_223.jpg\n",
      "File: 4_290.jpg\n",
      "Full path: F:\\dataset\\CASIA\\test_xxx\\4_290.jpg\n",
      "File: 5_370.jpg\n",
      "Full path: F:\\dataset\\CASIA\\test_xxx\\5_370.jpg\n",
      "File: 6_470.jpg\n",
      "Full path: F:\\dataset\\CASIA\\test_xxx\\6_470.jpg\n",
      "File: 7_544.jpg\n",
      "Full path: F:\\dataset\\CASIA\\test_xxx\\7_544.jpg\n",
      "File: 8_622.jpg\n",
      "Full path: F:\\dataset\\CASIA\\test_xxx\\8_622.jpg\n",
      "File: 9_679.jpg\n",
      "Full path: F:\\dataset\\CASIA\\test_xxx\\9_679.jpg\n"
     ]
    }
   ],
   "source": [
    "root_dir = r\"F:\\dataset\\CASIA\\test_xxx\"\n",
    "\n",
    "img_format = {'jpg', 'png', 'bmp'}\n",
    "\n",
    "for obj in os.scandir(root_dir):\n",
    "    if obj.is_dir():\n",
    "        print(\"Dir:\",obj.name)\n",
    "    elif obj.is_file():\n",
    "#         if obj.name.endswith('jpg'):\n",
    "        if obj.name.split(\".\")[-1] in img_format:\n",
    "            print(\"File:\",obj.name)\n",
    "            print(\"Full path:\",obj.path)"
   ]
  },
  {
   "cell_type": "code",
   "execution_count": 10,
   "metadata": {},
   "outputs": [
    {
     "name": "stdout",
     "output_type": "stream",
     "text": [
      "['F:', 'dataset', 'CASIA', 'test_xxx', '9_679.jpg']\n"
     ]
    }
   ],
   "source": [
    "path = r\"F:\\dataset\\CASIA\\test_xxx\\9_679.jpg\"\n",
    "\n",
    "print(path.split(\"\\\\\"))"
   ]
  },
  {
   "cell_type": "code",
   "execution_count": 12,
   "metadata": {},
   "outputs": [
    {
     "name": "stdout",
     "output_type": "stream",
     "text": [
      "9_679.jpg\n",
      "jpg\n"
     ]
    }
   ],
   "source": [
    "filename = path.split(\"\\\\\")[-1]\n",
    "print(filename)\n",
    "\n",
    "extension = filename.split(\".\")[-1]\n",
    "print(extension)"
   ]
  },
  {
   "cell_type": "markdown",
   "metadata": {},
   "source": [
    "# Collect image absolute paths from the root folder"
   ]
  },
  {
   "cell_type": "markdown",
   "metadata": {},
   "source": [
    "## Case 1"
   ]
  },
  {
   "cell_type": "code",
   "execution_count": 17,
   "metadata": {},
   "outputs": [
    {
     "name": "stdout",
     "output_type": "stream",
     "text": [
      "image quantity: 14\n"
     ]
    }
   ],
   "source": [
    "root_dir = r\"F:\\dataset\\CASIA\\test_xxx\"\n",
    "\n",
    "#----var\n",
    "img_format = {'jpg', 'png', 'bmp'}\n",
    "paths = list()\n",
    "\n",
    "for obj in os.scandir(root_dir):\n",
    "    if obj.is_dir():\n",
    "        print(\"Dir:\",obj.name)\n",
    "    elif obj.is_file():\n",
    "        if obj.name.split(\".\")[-1] in img_format:\n",
    "#             print(\"File:\",obj.name)\n",
    "#             print(\"Full path:\",obj.path)\n",
    "            \n",
    "            paths.append(obj.path)\n",
    "            \n",
    "print(\"image quantity:\",len(paths))"
   ]
  },
  {
   "cell_type": "code",
   "execution_count": 22,
   "metadata": {},
   "outputs": [
    {
     "name": "stdout",
     "output_type": "stream",
     "text": [
      "image quantity: 14\n"
     ]
    }
   ],
   "source": [
    "root_dir = r\"F:\\dataset\\CASIA\\test_xxx\"\n",
    "\n",
    "#----var\n",
    "img_format = {'jpg', 'png', 'bmp'}\n",
    "\n",
    "paths = [obj.path for obj in os.scandir(root_dir) if obj.name.split(\".\")[-1] in img_format]\n",
    "            \n",
    "print(\"image quantity:\",len(paths))"
   ]
  },
  {
   "cell_type": "markdown",
   "metadata": {},
   "source": [
    "## Case 2"
   ]
  },
  {
   "cell_type": "code",
   "execution_count": 25,
   "metadata": {},
   "outputs": [
    {
     "name": "stdout",
     "output_type": "stream",
     "text": [
      "5 images in F:\\dataset\\CASIA\\test_xxx\\sub_dir_1\n",
      "9 images in F:\\dataset\\CASIA\\test_xxx\\sub_dir_2\n",
      "image quantity: 14\n"
     ]
    }
   ],
   "source": [
    "root_dir = r\"F:\\dataset\\CASIA\\test_xxx\"\n",
    "\n",
    "#----var\n",
    "img_format = {'jpg', 'png', 'bmp'}\n",
    "paths = list()\n",
    "\n",
    "for obj in os.scandir(root_dir):\n",
    "    if obj.is_dir():\n",
    "        paths_temp = [obj.path for obj in os.scandir(obj.path) if obj.name.split(\".\")[-1] in img_format]\n",
    "        \n",
    "        print(\"{} images in {}\".format(len(paths_temp),obj.path))\n",
    "        \n",
    "        paths.extend(paths_temp)\n",
    "        \n",
    "print(\"image quantity:\",len(paths))"
   ]
  },
  {
   "cell_type": "markdown",
   "metadata": {},
   "source": [
    "## append and extend"
   ]
  },
  {
   "cell_type": "code",
   "execution_count": 30,
   "metadata": {},
   "outputs": [
    {
     "name": "stdout",
     "output_type": "stream",
     "text": [
      "[1, [2]]\n",
      "[1, 2]\n"
     ]
    }
   ],
   "source": [
    "a = [1]\n",
    "b = [1]\n",
    "c = [2]\n",
    "\n",
    "a.append(c)\n",
    "b.extend(c)\n",
    "\n",
    "print(a)\n",
    "print(b)"
   ]
  },
  {
   "cell_type": "code",
   "execution_count": 29,
   "metadata": {},
   "outputs": [
    {
     "name": "stdout",
     "output_type": "stream",
     "text": [
      "[1, [[2]]]\n",
      "[1, [2]]\n"
     ]
    }
   ],
   "source": [
    "a = [1]\n",
    "b = [1]\n",
    "c = [[2]]\n",
    "\n",
    "a.append(c)\n",
    "b.extend(c)\n",
    "\n",
    "print(a)\n",
    "print(b)"
   ]
  },
  {
   "cell_type": "markdown",
   "metadata": {},
   "source": [
    "# os.walk()"
   ]
  },
  {
   "cell_type": "code",
   "execution_count": 34,
   "metadata": {},
   "outputs": [
    {
     "name": "stdout",
     "output_type": "stream",
     "text": [
      "full_path: F:\\dataset\\CASIA\\test_xxx\\1_112.jpg\n",
      "full_path: F:\\dataset\\CASIA\\test_xxx\\2_141.jpg\n",
      "full_path: F:\\dataset\\CASIA\\test_xxx\\sub_dir_1\\0_30.jpg\n",
      "full_path: F:\\dataset\\CASIA\\test_xxx\\sub_dir_1\\3_223.jpg\n",
      "full_path: F:\\dataset\\CASIA\\test_xxx\\sub_dir_1\\4_290.jpg\n",
      "full_path: F:\\dataset\\CASIA\\test_xxx\\sub_dir_2\\10_733.jpg\n",
      "full_path: F:\\dataset\\CASIA\\test_xxx\\sub_dir_2\\11_853.jpg\n",
      "full_path: F:\\dataset\\CASIA\\test_xxx\\sub_dir_2\\12_917.jpg\n",
      "full_path: F:\\dataset\\CASIA\\test_xxx\\sub_dir_2\\13_1055.jpg\n",
      "full_path: F:\\dataset\\CASIA\\test_xxx\\sub_dir_2\\9_679.jpg\n",
      "full_path: F:\\dataset\\CASIA\\test_xxx\\sub_dir_2\\sub_sub_dir\\5_370.jpg\n",
      "full_path: F:\\dataset\\CASIA\\test_xxx\\sub_dir_2\\sub_sub_dir\\6_470.jpg\n",
      "full_path: F:\\dataset\\CASIA\\test_xxx\\sub_dir_2\\sub_sub_dir\\7_544.jpg\n",
      "full_path: F:\\dataset\\CASIA\\test_xxx\\sub_dir_2\\sub_sub_dir\\8_622.jpg\n",
      "image quantity: 14\n"
     ]
    }
   ],
   "source": [
    "root_dir = r\"F:\\dataset\\CASIA\\test_xxx\"\n",
    "\n",
    "#----var\n",
    "img_format = {'jpg', 'png', 'bmp'}\n",
    "paths = list()\n",
    "\n",
    "for dirname, sub_dirname, filenames in os.walk(root_dir):\n",
    "    if len(filenames) > 0:\n",
    "        for filename in filenames:\n",
    "            if filename.split(\".\")[-1] in img_format:\n",
    "                full_path = os.path.join(dirname,filename)\n",
    "                print(\"full_path:\",full_path)\n",
    "                \n",
    "                paths.append(full_path)\n",
    "                \n",
    "print(\"image quantity:\",len(paths))\n",
    "                    "
   ]
  },
  {
   "cell_type": "markdown",
   "metadata": {},
   "source": [
    "# form 4 dimensional data"
   ]
  },
  {
   "cell_type": "code",
   "execution_count": 36,
   "metadata": {},
   "outputs": [
    {
     "name": "stdout",
     "output_type": "stream",
     "text": [
      "img array shape:  (14, 100, 100, 3)\n"
     ]
    }
   ],
   "source": [
    "#When we feed image data to model, the format is Number x Height X Width x Channel. The abbreviation is NHWD \n",
    "#Practice to read images to form a 4-D array \n",
    "\n",
    "size = (100,100)#assume resize to 100 x 100\n",
    "\n",
    "img_array = list()\n",
    "\n",
    "for path in paths:\n",
    "    img = cv2.imread(path)\n",
    "    if img is None:\n",
    "        print(\"Read {} failed\".format(path))\n",
    "    else:\n",
    "        img = cv2.cvtColor(img,cv2.COLOR_BGR2RGB)#change the color format\n",
    "        img = cv2.resize(img,size)\n",
    "        img = img.astype(np.float32)\n",
    "        img /= 255#normalization\n",
    "\n",
    "        img_array.append(img)\n",
    "\n",
    "img_array = np.array(img_array)\n",
    "print(\"img array shape: \",img_array.shape)\n",
    "        "
   ]
  }
 ],
 "metadata": {
  "kernelspec": {
   "display_name": "Python 3",
   "language": "python",
   "name": "python3"
  },
  "language_info": {
   "codemirror_mode": {
    "name": "ipython",
    "version": 3
   },
   "file_extension": ".py",
   "mimetype": "text/x-python",
   "name": "python",
   "nbconvert_exporter": "python",
   "pygments_lexer": "ipython3",
   "version": "3.7.3"
  }
 },
 "nbformat": 4,
 "nbformat_minor": 2
}
